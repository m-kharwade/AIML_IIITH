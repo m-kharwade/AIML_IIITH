{
  "cells": [
    {
      "cell_type": "markdown",
      "metadata": {
        "id": "view-in-github",
        "colab_type": "text"
      },
      "source": [
        "<a href=\"https://colab.research.google.com/github/m-kharwade/AIML_IIITH/blob/main/29Oct_EulerProblems.ipynb\" target=\"_parent\"><img src=\"https://colab.research.google.com/assets/colab-badge.svg\" alt=\"Open In Colab\"/></a>"
      ]
    },
    {
      "cell_type": "markdown",
      "source": [
        "#### If we list all the natural numbers below 10 that are multiples of 3 or 5, we get 3, 5, 6 and 9. The sum of these multiples is 23.\n",
        "#### Find the sum of all the multiples of 3 or 5 below 1000."
      ],
      "metadata": {
        "id": "RSHWbfYf7qzd"
      }
    },
    {
      "cell_type": "code",
      "source": [
        "\n",
        "def euler_001(limit: int) -> int:\n",
        "  total , n = 0 ,1\n",
        "  while n <limit:\n",
        "    if n%3 ==0 or n%5==0 :\n",
        "      total += n\n",
        "    n+=1\n",
        "  return total\n",
        "\n"
      ],
      "metadata": {
        "id": "erinBYig55rv"
      },
      "execution_count": 3,
      "outputs": []
    },
    {
      "cell_type": "code",
      "source": [
        "print(euler_001(10))\n"
      ],
      "metadata": {
        "colab": {
          "base_uri": "https://localhost:8080/"
        },
        "id": "K1Eynss66rTE",
        "outputId": "4d957a58-535c-4e66-ef59-12973e2b08b9"
      },
      "execution_count": 4,
      "outputs": [
        {
          "output_type": "stream",
          "name": "stdout",
          "text": [
            "23\n"
          ]
        }
      ]
    },
    {
      "cell_type": "code",
      "source": [
        "print(euler_001(1000))"
      ],
      "metadata": {
        "colab": {
          "base_uri": "https://localhost:8080/"
        },
        "id": "rZDp2D3x7HK8",
        "outputId": "8ce419ef-1672-4efd-f100-2f08f81726d7"
      },
      "execution_count": 5,
      "outputs": [
        {
          "output_type": "stream",
          "name": "stdout",
          "text": [
            "233168\n"
          ]
        }
      ]
    },
    {
      "cell_type": "code",
      "source": [],
      "metadata": {
        "id": "MmKVOtP0921K"
      },
      "execution_count": null,
      "outputs": []
    },
    {
      "cell_type": "code",
      "source": [
        "def select(n: int) ->bool:\n",
        "  return n%3 ==0 or n%5 ==0\n",
        "\n",
        "def euler_001(limit: int) -> int:\n",
        "  total = 0 \n",
        "  for n in range(1,limit):\n",
        "    if select(n):\n",
        "      total += n\n",
        "  return total\n",
        "\n"
      ],
      "metadata": {
        "id": "cnbqxaYt9X6c"
      },
      "execution_count": 6,
      "outputs": []
    },
    {
      "cell_type": "code",
      "source": [
        "print(euler_001(1000))"
      ],
      "metadata": {
        "colab": {
          "base_uri": "https://localhost:8080/"
        },
        "id": "YbbXBAEB941G",
        "outputId": "bb2352b2-bbef-49a4-8a8e-9be954961abc"
      },
      "execution_count": 7,
      "outputs": [
        {
          "output_type": "stream",
          "name": "stdout",
          "text": [
            "233168\n"
          ]
        }
      ]
    },
    {
      "cell_type": "code",
      "source": [],
      "metadata": {
        "id": "ivlPRg2n_-hL"
      },
      "execution_count": null,
      "outputs": []
    },
    {
      "cell_type": "code",
      "source": [
        "def euler_001_C(limit: int) -> int:\n",
        "  return sum(range(3,limit,3))+sum(range(5,limit,5))-sum(range(15,limit,15))"
      ],
      "metadata": {
        "id": "1KDdvg3h_DEh"
      },
      "execution_count": 9,
      "outputs": []
    },
    {
      "cell_type": "code",
      "source": [
        "print(euler_001_C(1000))"
      ],
      "metadata": {
        "colab": {
          "base_uri": "https://localhost:8080/"
        },
        "id": "w-0FkOjm__Ua",
        "outputId": "9e4646d8-c028-4039-e124-8477e1368943"
      },
      "execution_count": 10,
      "outputs": [
        {
          "output_type": "stream",
          "name": "stdout",
          "text": [
            "233168\n"
          ]
        }
      ]
    },
    {
      "cell_type": "code",
      "source": [
        "def euler_001_D(limit: int) ->int:\n",
        "  return sum(set(range(3,limit,3)) | set(range(5,limit,5)) )"
      ],
      "metadata": {
        "id": "iXxsCKM9Ad-Y"
      },
      "execution_count": 11,
      "outputs": []
    },
    {
      "cell_type": "markdown",
      "source": [
        "AUB ={x|x belongsto A or x belongsto B }"
      ],
      "metadata": {
        "id": "wNvnINRqBwO7"
      }
    },
    {
      "cell_type": "code",
      "source": [
        "def is_perfect_cube(n: int) -->bool:\n",
        "  r=0\n",
        "  while r * r * r < n:\n",
        "    r+=1\n",
        "  return r * r * r == n"
      ],
      "metadata": {
        "id": "BC4TLPnIE47J"
      },
      "execution_count": 14,
      "outputs": []
    },
    {
      "cell_type": "code",
      "source": [
        "print(is_perfect_cube(5))"
      ],
      "metadata": {
        "colab": {
          "base_uri": "https://localhost:8080/"
        },
        "id": "XLAwSijOF0Mu",
        "outputId": "812a888d-216a-4aba-8c48-f9abb10a7ebf"
      },
      "execution_count": 15,
      "outputs": [
        {
          "output_type": "stream",
          "name": "stdout",
          "text": [
            "False\n"
          ]
        }
      ]
    },
    {
      "cell_type": "markdown",
      "source": [],
      "metadata": {
        "id": "RbcS6bry58vx"
      }
    },
    {
      "cell_type": "code",
      "source": [
        "def fun():\n",
        "    for i in range(1000,9999):\n",
        "      temp=pow(i,1/2)\n",
        "      if temp.is_integer():\n",
        "        k=i\n",
        "        tempval=0\n",
        "        while k>0:\n",
        "          if (k%10)%2 !=0:\n",
        "            tempval=1\n",
        "          k=k//10\n",
        "        if tempval == 0:\n",
        "          print(i)       \n",
        "fun()\n",
        "\n"
      ],
      "metadata": {
        "id": "UwKI6cMZX_tT",
        "outputId": "7f78bdd6-2784-4a33-ee55-850dbbfa007d",
        "colab": {
          "base_uri": "https://localhost:8080/"
        }
      },
      "execution_count": 47,
      "outputs": [
        {
          "output_type": "stream",
          "name": "stdout",
          "text": [
            "4624\n",
            "6084\n",
            "6400\n",
            "8464\n"
          ]
        }
      ]
    },
    {
      "cell_type": "code",
      "source": [
        "def sample(n):\n",
        "  while n > 0:\n",
        "    if n % 2!=0:\n",
        "      return False\n",
        "    n //= 10\n",
        "  return True\n",
        "\n",
        "print(sample(246))"
      ],
      "metadata": {
        "colab": {
          "base_uri": "https://localhost:8080/"
        },
        "id": "rUXeL0SQG8rV",
        "outputId": "42b02862-fc79-4afa-d9f2-b0b4ea6a9830"
      },
      "execution_count": 18,
      "outputs": [
        {
          "output_type": "stream",
          "name": "stdout",
          "text": [
            "True\n"
          ]
        }
      ]
    },
    {
      "cell_type": "code",
      "source": [
        "def multiple_of_100(n: int) -> int:\n",
        "  return n + 100 -(n % 100)\n",
        "\n",
        "print(multiple_of_100(14537))\n",
        "  \n",
        "\n",
        "\n"
      ],
      "metadata": {
        "id": "dwgch_upTDdT",
        "outputId": "3f9b49dc-fca1-455d-eb4b-340130d136cb",
        "colab": {
          "base_uri": "https://localhost:8080/"
        }
      },
      "execution_count": 22,
      "outputs": [
        {
          "output_type": "stream",
          "name": "stdout",
          "text": [
            "14600\n"
          ]
        }
      ]
    },
    {
      "cell_type": "code",
      "source": [
        "# Euler problem 21:\n",
        "\n",
        "def fun(n):\n",
        "  sum1=0\n",
        "  sum2=0\n",
        "  for i in range(1,n//2+1):\n",
        "    if n%i==0:\n",
        "      sum1+=i\n",
        "\n",
        "  for k in range(1,sum1//2+1):\n",
        "    if sum1%k==0:\n",
        "      sum2+=k\n",
        "\n",
        "  if n==sum2:\n",
        "    print(str(n)+\"----\"+str(sum1))\n",
        "\n",
        "for i in range(1,15000):\n",
        "   \n",
        "  fun(i)"
      ],
      "metadata": {
        "id": "lkPshIRmnbas",
        "outputId": "19988aad-9e43-4cf6-f205-3cc1ac0f0b5b",
        "colab": {
          "base_uri": "https://localhost:8080/"
        }
      },
      "execution_count": 68,
      "outputs": [
        {
          "output_type": "stream",
          "name": "stdout",
          "text": [
            "6----6\n",
            "28----28\n",
            "220----284\n",
            "284----220\n",
            "496----496\n",
            "1184----1210\n",
            "1210----1184\n",
            "2620----2924\n",
            "2924----2620\n",
            "5020----5564\n",
            "5564----5020\n",
            "6232----6368\n",
            "6368----6232\n",
            "8128----8128\n"
          ]
        }
      ]
    },
    {
      "cell_type": "code",
      "source": [
        "def fun(n):\n",
        "  sum1=0\n",
        "  sum2=0\n",
        "  for i in range(1,n//2+1):\n",
        "    if n%i==0:\n",
        "      sum1+=i\n",
        "\n",
        "  for k in range(1,sum1//2+1):\n",
        "    if sum1%k==0:\n",
        "      sum2+=k\n",
        "\n",
        "  if n==sum2:\n",
        "    print(str(n)+\"----\"+str(sum1))\n",
        "\n",
        "for i in range(1,10000):\n",
        "  fun(i)"
      ],
      "metadata": {
        "id": "hziMXtpevHKA"
      },
      "execution_count": null,
      "outputs": []
    },
    {
      "cell_type": "markdown",
      "source": [],
      "metadata": {
        "id": "hk6ZtR138s4i"
      }
    }
  ],
  "metadata": {
    "colab": {
      "collapsed_sections": [],
      "name": "Welcome To Colaboratory",
      "provenance": [],
      "include_colab_link": true
    },
    "kernelspec": {
      "display_name": "Python 3",
      "name": "python3"
    }
  },
  "nbformat": 4,
  "nbformat_minor": 0
}